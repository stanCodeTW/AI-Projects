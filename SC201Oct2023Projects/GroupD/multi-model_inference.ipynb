{
 "cells": [
  {
   "cell_type": "markdown",
   "id": "21c0da8d",
   "metadata": {
    "id": "C3UQILW8Y_4Q",
    "papermill": {
     "duration": 0.013199,
     "end_time": "2024-04-01T06:36:40.903601",
     "exception": false,
     "start_time": "2024-04-01T06:36:40.890402",
     "status": "completed"
    },
    "tags": []
   },
   "source": [
    "# Imports"
   ]
  },
  {
   "cell_type": "code",
   "execution_count": 1,
   "id": "fc503536",
   "metadata": {
    "execution": {
     "iopub.execute_input": "2024-04-01T06:36:40.929936Z",
     "iopub.status.busy": "2024-04-01T06:36:40.929375Z",
     "iopub.status.idle": "2024-04-01T06:36:44.873921Z",
     "shell.execute_reply": "2024-04-01T06:36:44.872999Z"
    },
    "id": "KG_2OFvQJ63B",
    "papermill": {
     "duration": 3.960282,
     "end_time": "2024-04-01T06:36:44.876216",
     "exception": false,
     "start_time": "2024-04-01T06:36:40.915934",
     "status": "completed"
    },
    "tags": []
   },
   "outputs": [],
   "source": [
    "import os\n",
    "import pandas as pd\n",
    "import numpy as np\n",
    "import torch\n",
    "import torch.nn as nn\n",
    "import torch.optim as optim\n",
    "import torch.nn.functional as F\n",
    "from matplotlib import pyplot as plt"
   ]
  },
  {
   "cell_type": "code",
   "execution_count": 2,
   "id": "ae1060fc",
   "metadata": {
    "execution": {
     "iopub.execute_input": "2024-04-01T06:36:44.903064Z",
     "iopub.status.busy": "2024-04-01T06:36:44.902362Z",
     "iopub.status.idle": "2024-04-01T06:36:50.172116Z",
     "shell.execute_reply": "2024-04-01T06:36:50.171134Z"
    },
    "papermill": {
     "duration": 5.285198,
     "end_time": "2024-04-01T06:36:50.174292",
     "exception": false,
     "start_time": "2024-04-01T06:36:44.889094",
     "status": "completed"
    },
    "tags": []
   },
   "outputs": [],
   "source": [
    "from torch.utils.data import DataLoader, Dataset, random_split\n",
    "import torchvision.transforms as T\n",
    "from torchvision import models\n",
    "import albumentations as A\n",
    "\n",
    "import timm\n",
    "import librosa\n",
    "\n",
    "import warnings\n",
    "warnings.filterwarnings(\"ignore\")\n",
    "\n",
    "from sklearn.model_selection import GroupKFold\n",
    "\n",
    "import gc\n",
    "\n",
    "def clear_memory():\n",
    "    torch.cuda.empty_cache()\n",
    "    gc.collect()\n",
    "\n",
    "# Set device\n",
    "device = torch.device(\"cuda\" if torch.cuda.is_available() else \"cpu\")"
   ]
  },
  {
   "cell_type": "markdown",
   "id": "d2e10fcc",
   "metadata": {
    "papermill": {
     "duration": 0.013172,
     "end_time": "2024-04-01T06:36:50.201381",
     "exception": false,
     "start_time": "2024-04-01T06:36:50.188209",
     "status": "completed"
    },
    "tags": []
   },
   "source": [
    "# Spectrogram PART"
   ]
  },
  {
   "cell_type": "code",
   "execution_count": 3,
   "id": "310d4467",
   "metadata": {
    "execution": {
     "iopub.execute_input": "2024-04-01T06:36:50.227639Z",
     "iopub.status.busy": "2024-04-01T06:36:50.227349Z",
     "iopub.status.idle": "2024-04-01T06:36:50.232944Z",
     "shell.execute_reply": "2024-04-01T06:36:50.232139Z"
    },
    "papermill": {
     "duration": 0.021064,
     "end_time": "2024-04-01T06:36:50.234886",
     "exception": false,
     "start_time": "2024-04-01T06:36:50.213822",
     "status": "completed"
    },
    "tags": []
   },
   "outputs": [],
   "source": [
    "OUTPUT_PATH = \"/kaggle/working\"\n",
    "\n",
    "TRAIN_CSV = \"/kaggle/input/hms-harmful-brain-activity-classification/train.csv\"\n",
    "TEST_CSV = \"/kaggle/input/hms-harmful-brain-activity-classification/test.csv\"\n",
    "\n",
    "GROUPED_CSV = \"/kaggle/input/grouped-train-csv/grouped_train.csv\"\n",
    "TRAIN_SPECTROGRAMS = \"/kaggle/input/hms-harmful-brain-activity-classification/train_spectrograms\"\n",
    "TEST_SPECTROGRAMS = \"/kaggle/input/hms-harmful-brain-activity-classification/test_spectrograms\"\n",
    "\n",
    "TRAIN_EEGS = \"/kaggle/input/hms-harmful-brain-activity-classification/train_eegs\"\n",
    "TEST_EEGS = \"/kaggle/input/hms-harmful-brain-activity-classification/test_eegs\"\n",
    "\n",
    "FULL_SPECTROGRAMS = \"/kaggle/input/brain-spectrograms/specs.npy\"\n",
    "FULL_EEGS = \"/kaggle/input/custom-eegs/eeg_specs.npy\"\n",
    "LABELS = [\"seizure_vote\", \"lpd_vote\", \"gpd_vote\", \"lrda_vote\", \"grda_vote\", \"other_vote\"]\n",
    "\n",
    "BATCH_SIZE = 32\n",
    "GROUP_FOLDS = 5"
   ]
  },
  {
   "cell_type": "code",
   "execution_count": 4,
   "id": "b24b892b",
   "metadata": {
    "execution": {
     "iopub.execute_input": "2024-04-01T06:36:50.260467Z",
     "iopub.status.busy": "2024-04-01T06:36:50.259913Z",
     "iopub.status.idle": "2024-04-01T06:36:50.275475Z",
     "shell.execute_reply": "2024-04-01T06:36:50.274643Z"
    },
    "papermill": {
     "duration": 0.030293,
     "end_time": "2024-04-01T06:36:50.277278",
     "exception": false,
     "start_time": "2024-04-01T06:36:50.246985",
     "status": "completed"
    },
    "tags": []
   },
   "outputs": [],
   "source": [
    "# eegs data preprocessing\n",
    "USE_WAVELET = None \n",
    "\n",
    "NAMES = [\"LL\", \"RL\", \"LP\", \"RP\"]\n",
    "\n",
    "FEATS = [[\"Fp1\",\"F7\",\"T3\",\"T5\",\"O1\"],\n",
    "         [\"Fp2\",\"F8\",\"T4\",\"T6\",\"O2\"],\n",
    "         [\"Fp1\",\"F3\",\"C3\",\"P3\",\"O1\"],\n",
    "         [\"Fp2\",\"F4\",\"C4\",\"P4\",\"O2\"]]\n",
    "\n",
    "def maddest(d, axis: int = None):\n",
    "    \"\"\"\n",
    "    Denoise function.\n",
    "    \"\"\"\n",
    "    return np.mean(np.absolute(d - np.mean(d, axis)), axis)\n",
    "\n",
    "def denoise(x: np.ndarray, wavelet: str = 'haar', level: int = 1): \n",
    "    coeff = pywt.wavedec(x, wavelet, mode=\"per\") # multilevel 1D Discrete Wavelet Transform of data.\n",
    "    sigma = (1/0.6745) * maddest(coeff[-level])\n",
    "    uthresh = sigma * np.sqrt(2*np.log(len(x)))\n",
    "    coeff[1:] = (pywt.threshold(i, value=uthresh, mode='hard') for i in coeff[1:])\n",
    "    output = pywt.waverec(coeff, wavelet, mode='per')\n",
    "    return output\n",
    "\n",
    "def spectrogram_from_eeg(parquet_path):\n",
    "    # LOAD MIDDLE 50 SECONDS OF EEG SERIES\n",
    "    eeg = pd.read_parquet(parquet_path)\n",
    "    middle = (len(eeg)-10_000)//2\n",
    "    eeg = eeg.iloc[middle:middle+10_000]\n",
    "    \n",
    "    # VARIABLE TO HOLD SPECTROGRAM\n",
    "    img = np.zeros((128,256,4),dtype='float32')\n",
    "    \n",
    "    signals = []\n",
    "    for k in range(4):\n",
    "        COLS = FEATS[k]\n",
    "        \n",
    "        for kk in range(4):\n",
    "        \n",
    "            # COMPUTE PAIR DIFFERENCES\n",
    "            x = eeg[COLS[kk]].values - eeg[COLS[kk+1]].values\n",
    "\n",
    "            # FILL NANS\n",
    "            m = np.nanmean(x)\n",
    "            if np.isnan(x).mean()<1: x = np.nan_to_num(x,nan=m)\n",
    "            else: x[:] = 0\n",
    "\n",
    "            # DENOISE\n",
    "            if USE_WAVELET:\n",
    "                x = denoise(x, wavelet=USE_WAVELET)\n",
    "            signals.append(x)\n",
    "\n",
    "            # RAW SPECTROGRAM\n",
    "            mel_spec = librosa.feature.melspectrogram(y=x, sr=200, hop_length=len(x)//256, \n",
    "                  n_fft=1024, n_mels=128, fmin=0, fmax=20, win_length=128)\n",
    "\n",
    "            # LOG TRANSFORM\n",
    "            width = (mel_spec.shape[1]//32)*32\n",
    "            mel_spec_db = librosa.power_to_db(mel_spec, ref=np.max).astype(np.float32)[:,:width]\n",
    "\n",
    "            # STANDARDIZE TO -1 TO 1\n",
    "            mel_spec_db = (mel_spec_db+40)/40 \n",
    "            img[:,:,k] += mel_spec_db\n",
    "                \n",
    "        # AVERAGE THE 4 MONTAGE DIFFERENCES\n",
    "        img[:,:,k] /= 4.0\n",
    "        \n",
    "    return img"
   ]
  },
  {
   "cell_type": "code",
   "execution_count": 5,
   "id": "e8137eee",
   "metadata": {
    "execution": {
     "iopub.execute_input": "2024-04-01T06:36:50.302939Z",
     "iopub.status.busy": "2024-04-01T06:36:50.302496Z",
     "iopub.status.idle": "2024-04-01T06:37:00.407702Z",
     "shell.execute_reply": "2024-04-01T06:37:00.406453Z"
    },
    "papermill": {
     "duration": 10.122793,
     "end_time": "2024-04-01T06:37:00.412238",
     "exception": false,
     "start_time": "2024-04-01T06:36:50.289445",
     "status": "completed"
    },
    "tags": []
   },
   "outputs": [
    {
     "name": "stdout",
     "output_type": "stream",
     "text": [
      "1\n"
     ]
    }
   ],
   "source": [
    "# store test eegs into dictionary\n",
    "full_eegs = {}\n",
    "for file in os.listdir(TEST_EEGS):\n",
    "    temp = pd.read_parquet(os.path.join(TEST_EEGS, file))\n",
    "    specs_id = file.split(\".\")[0]\n",
    "    full_eegs[int(specs_id)] = spectrogram_from_eeg(os.path.join(TEST_EEGS, file))\n",
    "    del temp, specs_id\n",
    "\n",
    "print(len(full_eegs))"
   ]
  },
  {
   "cell_type": "code",
   "execution_count": 6,
   "id": "fc96d2e6",
   "metadata": {
    "execution": {
     "iopub.execute_input": "2024-04-01T06:37:00.476730Z",
     "iopub.status.busy": "2024-04-01T06:37:00.475723Z",
     "iopub.status.idle": "2024-04-01T06:37:00.566584Z",
     "shell.execute_reply": "2024-04-01T06:37:00.565473Z"
    },
    "papermill": {
     "duration": 0.125393,
     "end_time": "2024-04-01T06:37:00.568692",
     "exception": false,
     "start_time": "2024-04-01T06:37:00.443299",
     "status": "completed"
    },
    "tags": []
   },
   "outputs": [
    {
     "name": "stdout",
     "output_type": "stream",
     "text": [
      "1\n"
     ]
    }
   ],
   "source": [
    "# spectrograms data preprocessing\n",
    "test_df = pd.read_csv(TEST_CSV)\n",
    "\n",
    "full_specs = {}\n",
    "for file in os.listdir(TEST_SPECTROGRAMS):\n",
    "    temp = pd.read_parquet(os.path.join(TEST_SPECTROGRAMS, file))\n",
    "    specs_id = file.split(\".\")[0]\n",
    "    full_specs[int(specs_id)] = temp.iloc[:, 1:].values\n",
    "    del temp, specs_id\n",
    "    \n",
    "print(len(full_specs))"
   ]
  },
  {
   "cell_type": "code",
   "execution_count": 7,
   "id": "4de36732",
   "metadata": {
    "execution": {
     "iopub.execute_input": "2024-04-01T06:37:00.596086Z",
     "iopub.status.busy": "2024-04-01T06:37:00.595761Z",
     "iopub.status.idle": "2024-04-01T06:37:00.610387Z",
     "shell.execute_reply": "2024-04-01T06:37:00.609521Z"
    },
    "papermill": {
     "duration": 0.030418,
     "end_time": "2024-04-01T06:37:00.612221",
     "exception": false,
     "start_time": "2024-04-01T06:37:00.581803",
     "status": "completed"
    },
    "tags": []
   },
   "outputs": [],
   "source": [
    "# Build CustomDataset\n",
    "class CustomDataset(Dataset):\n",
    "    def __init__(self, metadata, specs_dict, eegs_dict, transforms=False, mode=\"Train\"):\n",
    "        self.metadata = metadata\n",
    "        self.specs_dict = specs_dict\n",
    "        self.eegs_dict = eegs_dict\n",
    "        self.transforms = transforms\n",
    "        self.mode = mode\n",
    "        self.__epsilon = 1e-6\n",
    "\n",
    "    def __len__(self):\n",
    "        return len(self.metadata)\n",
    "\n",
    "    def __getitem__(self, index):\n",
    "        X, y = self.__create_data(index)\n",
    "        \n",
    "        if self.transforms:\n",
    "            X = self.__data_transformation(X)\n",
    "\n",
    "        # convert to tensors\n",
    "        X = torch.tensor(X, dtype=torch.float32)\n",
    "        y = torch.tensor(y, dtype=torch.float32)\n",
    "\n",
    "        return X, y\n",
    "\n",
    "    def __create_data(self, index):\n",
    "        X = np.zeros((128, 256, 8), dtype=np.float32)\n",
    "        y = np.zeros((6), dtype=np.float32)\n",
    "        img = np.ones((128, 256), dtype=np.float32)\n",
    "        row = self.metadata.iloc[index]\n",
    "\n",
    "        if self.mode == \"Train\":\n",
    "            offset = int((row[\"min\"] + row[\"max\"])//4)\n",
    "            # convert labels to float32\n",
    "            y = row[LABELS].values.astype(np.float32)\n",
    "\n",
    "        else:\n",
    "            offset = 0\n",
    "\n",
    "        for i in range(4):\n",
    "            # 100x300xi\n",
    "            img = self.specs_dict[row[\"spectrogram_id\"]][offset:offset+300, i*100:(i+1)*100].T\n",
    "\n",
    "            # log transform\n",
    "            img = np.clip(img, np.exp(-4), np.exp(8))\n",
    "            img = np.log(img)\n",
    "\n",
    "            # standardization\n",
    "            m = np.nanmean(img.flatten())\n",
    "            std = np.nanstd(img.flatten())\n",
    "            img = (img - m) / (std + self.__epsilon)\n",
    "            img = np.nan_to_num(img, 0.0)\n",
    "\n",
    "            # fit into X (0-3 at dim=3)\n",
    "            # 100x256xi\n",
    "            X[14: -14, :, i] = img[:, 22:-22] / 2.0 # ????????\n",
    "\n",
    "        # eegs\n",
    "        # 128x256x4\n",
    "        img = self.eegs_dict[row[\"eeg_id\"]]\n",
    "        X[:, :, 4:] = img\n",
    "\n",
    "        return X, y\n",
    "\n",
    "\n",
    "    def __data_transformation(self, x):\n",
    "        transforms = A.Compose([A.HorizontalFlip(p=0.5)])\n",
    "        return transforms(image=x)[\"image\"]"
   ]
  },
  {
   "cell_type": "code",
   "execution_count": 8,
   "id": "9b2d0d6e",
   "metadata": {
    "execution": {
     "iopub.execute_input": "2024-04-01T06:37:00.639657Z",
     "iopub.status.busy": "2024-04-01T06:37:00.639364Z",
     "iopub.status.idle": "2024-04-01T06:37:00.671928Z",
     "shell.execute_reply": "2024-04-01T06:37:00.670690Z"
    },
    "papermill": {
     "duration": 0.049052,
     "end_time": "2024-04-01T06:37:00.674276",
     "exception": false,
     "start_time": "2024-04-01T06:37:00.625224",
     "status": "completed"
    },
    "tags": []
   },
   "outputs": [
    {
     "name": "stdout",
     "output_type": "stream",
     "text": [
      "x shape: torch.Size([128, 256, 8])\n",
      "y shape: torch.Size([6])\n"
     ]
    }
   ],
   "source": [
    "# Build DataLoader and test\n",
    "test_dataset = CustomDataset(test_df, full_specs, full_eegs, mode=\"Test\")\n",
    "test_loader = DataLoader(test_dataset, batch_size=BATCH_SIZE, shuffle=False)\n",
    "\n",
    "x, y = test_dataset[0]\n",
    "print(\"x shape:\", x.shape)\n",
    "print(\"y shape:\", y.shape)"
   ]
  },
  {
   "cell_type": "markdown",
   "id": "512ea10c",
   "metadata": {
    "papermill": {
     "duration": 0.01287,
     "end_time": "2024-04-01T06:37:00.700615",
     "exception": false,
     "start_time": "2024-04-01T06:37:00.687745",
     "status": "completed"
    },
    "tags": []
   },
   "source": [
    "**Model 1: N x 12 x 256 x 256**"
   ]
  },
  {
   "cell_type": "code",
   "execution_count": 9,
   "id": "99e79917",
   "metadata": {
    "execution": {
     "iopub.execute_input": "2024-04-01T06:37:00.728468Z",
     "iopub.status.busy": "2024-04-01T06:37:00.728188Z",
     "iopub.status.idle": "2024-04-01T06:37:00.739670Z",
     "shell.execute_reply": "2024-04-01T06:37:00.738875Z"
    },
    "papermill": {
     "duration": 0.027917,
     "end_time": "2024-04-01T06:37:00.741586",
     "exception": false,
     "start_time": "2024-04-01T06:37:00.713669",
     "status": "completed"
    },
    "tags": []
   },
   "outputs": [],
   "source": [
    "class Effnet_256(nn.Module):\n",
    "    def __init__(self, num_classes=6, pretrained=True):\n",
    "        super().__init__()\n",
    "        self.model = models.efficientnet_b0(pretrained=pretrained)\n",
    "        self.model.features[0][0] = nn.Conv2d(12, 32, kernel_size=(3, 3), stride=(2, 2), padding=(1, 1), bias=False)\n",
    "        num_features = self.model.classifier[1].in_features\n",
    "        self.model.classifier = torch.nn.Linear(num_features, num_classes)\n",
    "\n",
    "    def forward(self, x):\n",
    "        x = self.__reshape_input(x)\n",
    "        x = self.model(x)\n",
    "        return x\n",
    "\n",
    "    def __reshape_input(self, x):\n",
    "        \"\"\"\n",
    "        (N, 128, 256, 8) -> (N, 256, 256, 12])\n",
    "        \"\"\"\n",
    "        # LL + RL 256 x 256\n",
    "        spectrograms_1 = [x[:, :, :, i:i+1] for i in range(2)]\n",
    "        spectrograms_1 = torch.cat(spectrograms_1, dim=1)\n",
    "\n",
    "        # LP + RP 256 x 256\n",
    "        spectrograms_2 = [x[:, :, :, i:i+1] for i in range(2, 4)]\n",
    "        spectrograms_2 = torch.cat(spectrograms_2, dim=1)\n",
    "\n",
    "        # LL + LP 256 x 256\n",
    "        eegs_1 = [x[:, :, :, i:i+1] for i in range(4, 6)]\n",
    "        eegs_1 = torch.cat(eegs_1, dim=1)\n",
    "\n",
    "        # LP + RP 256 x 256\n",
    "        eegs_2 = [x[:, :, :, i:i+1] for i in range(6, 8)]\n",
    "        eegs_2 = torch.cat(eegs_2, dim=1)\n",
    "\n",
    "        # stack\n",
    "        x = torch.cat([spectrograms_1, spectrograms_2, eegs_1, eegs_2], dim=3)\n",
    "        x = torch.cat([x, x, x], dim=3)\n",
    "\n",
    "        # permute\n",
    "        x = x.permute(0, 3, 1, 2)\n",
    "        return x"
   ]
  },
  {
   "cell_type": "code",
   "execution_count": 10,
   "id": "f701f356",
   "metadata": {
    "execution": {
     "iopub.execute_input": "2024-04-01T06:37:00.769378Z",
     "iopub.status.busy": "2024-04-01T06:37:00.769053Z",
     "iopub.status.idle": "2024-04-01T06:37:00.774712Z",
     "shell.execute_reply": "2024-04-01T06:37:00.773988Z"
    },
    "papermill": {
     "duration": 0.02222,
     "end_time": "2024-04-01T06:37:00.776635",
     "exception": false,
     "start_time": "2024-04-01T06:37:00.754415",
     "status": "completed"
    },
    "tags": []
   },
   "outputs": [],
   "source": [
    "# Inference\n",
    "def inference(test_loader, model, device):\n",
    "    model.eval()\n",
    "    predictions_dict = {}\n",
    "    predictions = []\n",
    "    with torch.no_grad():\n",
    "        for x, _ in test_loader:\n",
    "            x = x.to(device)\n",
    "            prediction = model(x)\n",
    "            prediction = F.softmax(prediction)\n",
    "            predictions.append(prediction.to(\"cpu\").numpy())\n",
    "            \n",
    "    predictions_dict[\"predictions\"] = np.concatenate(predictions)\n",
    "    return predictions_dict"
   ]
  },
  {
   "cell_type": "code",
   "execution_count": 11,
   "id": "319f4915",
   "metadata": {
    "execution": {
     "iopub.execute_input": "2024-04-01T06:37:00.803545Z",
     "iopub.status.busy": "2024-04-01T06:37:00.803301Z",
     "iopub.status.idle": "2024-04-01T06:37:05.276895Z",
     "shell.execute_reply": "2024-04-01T06:37:05.275763Z"
    },
    "papermill": {
     "duration": 4.489431,
     "end_time": "2024-04-01T06:37:05.279268",
     "exception": false,
     "start_time": "2024-04-01T06:37:00.789837",
     "status": "completed"
    },
    "tags": []
   },
   "outputs": [
    {
     "name": "stdout",
     "output_type": "stream",
     "text": [
      "[[1.3819794e-01 2.8095702e-02 1.9582195e-04 1.8614370e-01 2.9172828e-02\n",
      "  6.1819398e-01]]\n"
     ]
    }
   ],
   "source": [
    "# Load pretrained model\n",
    "model_list = os.listdir(\"/kaggle/input/efficientnet-b0-256\")\n",
    "\n",
    "model1_output = []\n",
    "\n",
    "for model_name in model_list:\n",
    "    test_dataset = CustomDataset(test_df, full_specs, full_eegs, transforms=False, mode=\"Test\")\n",
    "    train_loader = DataLoader(test_dataset, batch_size=BATCH_SIZE, shuffle=False)\n",
    "    \n",
    "    model = Effnet_256(num_classes=6, pretrained=False)\n",
    "    checkpoint = torch.load(os.path.join(\"/kaggle/input/efficientnet-b0-256\", model_name), map_location=\"cpu\")\n",
    "    model.load_state_dict(checkpoint[\"model\"])\n",
    "    model.to(device)\n",
    "    predictions_dict = inference(test_loader, model, device)\n",
    "    model1_output.append(predictions_dict[\"predictions\"])\n",
    "    clear_memory()\n",
    "    \n",
    "model1_output = np.array(model1_output)\n",
    "model1_output = np.mean(model1_output, axis=0)\n",
    "print(model1_output)"
   ]
  },
  {
   "cell_type": "markdown",
   "id": "02e33280",
   "metadata": {
    "papermill": {
     "duration": 0.012943,
     "end_time": "2024-04-01T06:37:05.305403",
     "exception": false,
     "start_time": "2024-04-01T06:37:05.292460",
     "status": "completed"
    },
    "tags": []
   },
   "source": [
    "Model 2: N x 3 x 512 x 512"
   ]
  },
  {
   "cell_type": "code",
   "execution_count": 12,
   "id": "a1e4c8fc",
   "metadata": {
    "execution": {
     "iopub.execute_input": "2024-04-01T06:37:05.331535Z",
     "iopub.status.busy": "2024-04-01T06:37:05.331267Z",
     "iopub.status.idle": "2024-04-01T06:37:05.340441Z",
     "shell.execute_reply": "2024-04-01T06:37:05.339607Z"
    },
    "papermill": {
     "duration": 0.024579,
     "end_time": "2024-04-01T06:37:05.342407",
     "exception": false,
     "start_time": "2024-04-01T06:37:05.317828",
     "status": "completed"
    },
    "tags": []
   },
   "outputs": [],
   "source": [
    "class Effnet_512(nn.Module):\n",
    "    def __init__(self, num_classes=6, pretrained=True):\n",
    "        super().__init__()\n",
    "        self.model = models.efficientnet_b0(pretrained=pretrained)\n",
    "        num_features = self.model.classifier[1].in_features\n",
    "        self.model.classifier = torch.nn.Linear(num_features, num_classes)\n",
    "\n",
    "    def forward(self, x):\n",
    "        x = self.__reshape_input(x)\n",
    "        x = self.model(x)\n",
    "        return x\n",
    "\n",
    "    def __reshape_input(self, x):\n",
    "        \"\"\"\n",
    "        reshape input from (N, 128, 256, 8) to (N, 512, 512, 3) and permute to (N, 3, 512, 512)\n",
    "        \"\"\"\n",
    "        spectrograms = [x[:, :, :, i:i+1] for i in range(4)]\n",
    "        spectrograms = torch.cat(spectrograms, dim=1)\n",
    "        eegs = [x[:, :, :, i:i+1] for i in range(4, 8)]\n",
    "        eegs = torch.cat(eegs, dim=1)\n",
    "        # now spectrograms and eegs are both Nx512x256x1\n",
    "        x = torch.cat([spectrograms, eegs], dim=2)\n",
    "        x = torch.cat([x, x, x], dim=3)\n",
    "        x = x.permute(0, 3, 1, 2)\n",
    "        return x"
   ]
  },
  {
   "cell_type": "code",
   "execution_count": 13,
   "id": "62449eae",
   "metadata": {
    "execution": {
     "iopub.execute_input": "2024-04-01T06:37:05.369410Z",
     "iopub.status.busy": "2024-04-01T06:37:05.369151Z",
     "iopub.status.idle": "2024-04-01T06:37:08.848159Z",
     "shell.execute_reply": "2024-04-01T06:37:08.847002Z"
    },
    "papermill": {
     "duration": 3.495376,
     "end_time": "2024-04-01T06:37:08.850190",
     "exception": false,
     "start_time": "2024-04-01T06:37:05.354814",
     "status": "completed"
    },
    "tags": []
   },
   "outputs": [
    {
     "name": "stdout",
     "output_type": "stream",
     "text": [
      "[[0.24003184 0.07617775 0.00060206 0.29084778 0.05024021 0.34210038]]\n"
     ]
    }
   ],
   "source": [
    "model_list = os.listdir(\"/kaggle/input/efficientnet-b0-512\")\n",
    "# model_list = os.listdir(\"/kaggle/input/efficientnet-512-epoch50\")\n",
    "\n",
    "model2_output = []\n",
    "\n",
    "for model_name in model_list:\n",
    "    test_dataset = CustomDataset(test_df, full_specs, full_eegs, transforms=False, mode=\"Test\")\n",
    "    train_loader = DataLoader(test_dataset, batch_size=BATCH_SIZE, shuffle=False)\n",
    "    \n",
    "    model = Effnet_512(num_classes=6, pretrained=False)\n",
    "    checkpoint = torch.load(os.path.join(\"/kaggle/input/efficientnet-b0-512\", model_name), map_location=\"cpu\")\n",
    "#     checkpoint = torch.load(os.path.join(\"/kaggle/input/efficientnet-512-epoch50\", model_name), map_location=\"cpu\")\n",
    "    model.load_state_dict(checkpoint[\"model\"])\n",
    "    model.to(device)\n",
    "    predictions_dict = inference(test_loader, model, device)\n",
    "    model2_output.append(predictions_dict[\"predictions\"])\n",
    "    clear_memory()\n",
    "    \n",
    "model2_output = np.array(model2_output)\n",
    "model2_output = np.mean(model2_output, axis=0)\n",
    "print(model2_output)"
   ]
  },
  {
   "cell_type": "markdown",
   "id": "30e89330",
   "metadata": {
    "papermill": {
     "duration": 0.012684,
     "end_time": "2024-04-01T06:37:08.876176",
     "exception": false,
     "start_time": "2024-04-01T06:37:08.863492",
     "status": "completed"
    },
    "tags": []
   },
   "source": [
    "# Model 3: two stages 512"
   ]
  },
  {
   "cell_type": "code",
   "execution_count": 14,
   "id": "55dd11a4",
   "metadata": {
    "execution": {
     "iopub.execute_input": "2024-04-01T06:37:08.902733Z",
     "iopub.status.busy": "2024-04-01T06:37:08.902457Z",
     "iopub.status.idle": "2024-04-01T06:37:13.486069Z",
     "shell.execute_reply": "2024-04-01T06:37:13.485169Z"
    },
    "papermill": {
     "duration": 4.599525,
     "end_time": "2024-04-01T06:37:13.488281",
     "exception": false,
     "start_time": "2024-04-01T06:37:08.888756",
     "status": "completed"
    },
    "tags": []
   },
   "outputs": [
    {
     "name": "stdout",
     "output_type": "stream",
     "text": [
      "[[0.14804468 0.08879526 0.00113507 0.21691449 0.02654848 0.518562  ]]\n"
     ]
    }
   ],
   "source": [
    "# two stages\n",
    "MODEL_NAME = \"efficientnet_b2\"\n",
    "\n",
    "class Effnet_b2(nn.Module):\n",
    "    def __init__(self, num_classes=6, pretrained=True):\n",
    "        super().__init__()\n",
    "        self.model = models.efficientnet_b2(pretrained=pretrained)\n",
    "        num_features = self.model.classifier[1].in_features\n",
    "        self.model.classifier = torch.nn.Linear(num_features, num_classes)\n",
    "\n",
    "    def forward(self, x):\n",
    "        x = self.__reshape_input(x)\n",
    "        x = self.model(x)\n",
    "        return x\n",
    "\n",
    "    def __reshape_input(self, x):\n",
    "        \"\"\"\n",
    "        reshape input from (N, 128, 256, 8) to (N, 512, 512, 3) and permute to (N, 3, 512, 512)\n",
    "        \"\"\"\n",
    "        spectrograms = [x[:, :, :, i:i+1] for i in range(4)]\n",
    "        spectrograms = torch.cat(spectrograms, dim=1)\n",
    "        eegs = [x[:, :, :, i:i+1] for i in range(4, 8)]\n",
    "        eegs = torch.cat(eegs, dim=1)\n",
    "        # now spectrograms and eegs are both Nx512x256x1\n",
    "        x = torch.cat([spectrograms, eegs], dim=2)\n",
    "        x = torch.cat([x, x, x], dim=3)\n",
    "        x = x.permute(0, 3, 1, 2)\n",
    "        return x\n",
    "\n",
    "model_list = os.listdir(\"/kaggle/input/b2-two-stages\")\n",
    "\n",
    "model3_output = []\n",
    "\n",
    "# use filtered model\n",
    "for model_name in model_list:\n",
    "    test_dataset = CustomDataset(test_df, full_specs, full_eegs, transforms=False, mode=\"Test\")\n",
    "    train_loader = DataLoader(test_dataset, batch_size=BATCH_SIZE, shuffle=False)\n",
    "    \n",
    "    model = Effnet_b2(num_classes=6, pretrained=False)\n",
    "    checkpoint = torch.load(os.path.join(\"/kaggle/input/b2-two-stages\", model_name), map_location=\"cpu\")\n",
    "    model.load_state_dict(checkpoint[\"model\"])\n",
    "    model.to(device)\n",
    "    predictions_dict = inference(test_loader, model, device)\n",
    "    model3_output.append(predictions_dict[\"predictions\"])\n",
    "    clear_memory()\n",
    "    \n",
    "model3_output = np.array(model3_output)\n",
    "model3_output = np.mean(model3_output, axis=0)\n",
    "print(model3_output)"
   ]
  },
  {
   "cell_type": "code",
   "execution_count": 15,
   "id": "8fed7bdb",
   "metadata": {
    "execution": {
     "iopub.execute_input": "2024-04-01T06:37:13.516168Z",
     "iopub.status.busy": "2024-04-01T06:37:13.515851Z",
     "iopub.status.idle": "2024-04-01T06:37:13.520398Z",
     "shell.execute_reply": "2024-04-01T06:37:13.519540Z"
    },
    "papermill": {
     "duration": 0.02076,
     "end_time": "2024-04-01T06:37:13.522330",
     "exception": false,
     "start_time": "2024-04-01T06:37:13.501570",
     "status": "completed"
    },
    "tags": []
   },
   "outputs": [],
   "source": [
    "spectrogram_output = np.mean([model1_output, model2_output, model3_output], axis=0)"
   ]
  },
  {
   "cell_type": "code",
   "execution_count": 16,
   "id": "c34b5680",
   "metadata": {
    "execution": {
     "iopub.execute_input": "2024-04-01T06:37:13.549083Z",
     "iopub.status.busy": "2024-04-01T06:37:13.548827Z",
     "iopub.status.idle": "2024-04-01T06:37:13.552841Z",
     "shell.execute_reply": "2024-04-01T06:37:13.552006Z"
    },
    "papermill": {
     "duration": 0.019759,
     "end_time": "2024-04-01T06:37:13.554896",
     "exception": false,
     "start_time": "2024-04-01T06:37:13.535137",
     "status": "completed"
    },
    "tags": []
   },
   "outputs": [],
   "source": [
    "# # submission\n",
    "# submission_df = test_df[[\"eeg_id\"]].copy()\n",
    "# submission_df[LABELS] = output\n",
    "# submission_df.to_csv(\"submission.csv\", index=False)\n",
    "# print(submission_df.shape)\n",
    "# submission_df"
   ]
  },
  {
   "cell_type": "markdown",
   "id": "24dd96a0",
   "metadata": {
    "id": "I1yKE88yACMX",
    "papermill": {
     "duration": 0.052726,
     "end_time": "2024-04-01T06:37:13.620427",
     "exception": false,
     "start_time": "2024-04-01T06:37:13.567701",
     "status": "completed"
    },
    "tags": []
   },
   "source": [
    "# EEG PART"
   ]
  },
  {
   "cell_type": "code",
   "execution_count": 17,
   "id": "983e885b",
   "metadata": {
    "execution": {
     "iopub.execute_input": "2024-04-01T06:37:13.648128Z",
     "iopub.status.busy": "2024-04-01T06:37:13.647791Z",
     "iopub.status.idle": "2024-04-01T06:37:13.867330Z",
     "shell.execute_reply": "2024-04-01T06:37:13.866500Z"
    },
    "papermill": {
     "duration": 0.236012,
     "end_time": "2024-04-01T06:37:13.869762",
     "exception": false,
     "start_time": "2024-04-01T06:37:13.633750",
     "status": "completed"
    },
    "tags": []
   },
   "outputs": [],
   "source": [
    "train = pd.read_csv('/kaggle/input/hms-harmful-brain-activity-classification/train.csv')\n",
    "votes = train.columns[-6:]"
   ]
  },
  {
   "cell_type": "code",
   "execution_count": 18,
   "id": "cc3f0c1b",
   "metadata": {
    "execution": {
     "iopub.execute_input": "2024-04-01T06:37:13.898465Z",
     "iopub.status.busy": "2024-04-01T06:37:13.897761Z",
     "iopub.status.idle": "2024-04-01T06:37:13.902465Z",
     "shell.execute_reply": "2024-04-01T06:37:13.901616Z"
    },
    "id": "iAHn2gVdnT8X",
    "papermill": {
     "duration": 0.021205,
     "end_time": "2024-04-01T06:37:13.904421",
     "exception": false,
     "start_time": "2024-04-01T06:37:13.883216",
     "status": "completed"
    },
    "tags": []
   },
   "outputs": [],
   "source": [
    "features = ['Fp1', 'T3', 'C3', 'O1', 'Fp2', 'C4', 'T4', 'O2']\n",
    "features_to_index = {x: y for x, y in zip(features, range(len(features)))}"
   ]
  },
  {
   "cell_type": "code",
   "execution_count": 19,
   "id": "56d035f4",
   "metadata": {
    "execution": {
     "iopub.execute_input": "2024-04-01T06:37:13.931331Z",
     "iopub.status.busy": "2024-04-01T06:37:13.930779Z",
     "iopub.status.idle": "2024-04-01T06:37:13.940608Z",
     "shell.execute_reply": "2024-04-01T06:37:13.939806Z"
    },
    "id": "57kmwWc8ZTSk",
    "papermill": {
     "duration": 0.025097,
     "end_time": "2024-04-01T06:37:13.942470",
     "exception": false,
     "start_time": "2024-04-01T06:37:13.917373",
     "status": "completed"
    },
    "tags": []
   },
   "outputs": [],
   "source": [
    "def eeg_from_parquet(parquet_path, display=False):\n",
    "    # select the middle 50 seconds\n",
    "    eeg = pd.read_parquet(parquet_path, columns=features)\n",
    "    rows = len(eeg)\n",
    "    offset = (rows-10_000) // 2\n",
    "    eeg = eeg.iloc[offset:offset+10_000]  # middle 50 seconds, has the same amount of readings to left and right\n",
    "\n",
    "    if display:\n",
    "        plt.figure(figsize=(10, 5))\n",
    "        offset = 0\n",
    "\n",
    "    # convert to numpy\n",
    "    data = np.zeros((10_000, len(features)))  # create placeholder of same shape with zeros\n",
    "    for index, feature in enumerate(features):\n",
    "\n",
    "        # fill NaN\n",
    "        x = eeg[feature].values.astype('float32')  # convert to float32\n",
    "        mean = np.nanmean(x)  # arithmetic mean along the specified axis, ignoring NaNs\n",
    "        nan_percentage = np.isnan(x).mean()  # percentage of NaN values in feature\n",
    "        if nan_percentage < 1:  # if some values are nan, but not all\n",
    "            x = np.nan_to_num(x, nan=mean)\n",
    "        else:\n",
    "          # if all values are nan\n",
    "          x[:] = 0\n",
    "\n",
    "        data[:, index] = x\n",
    "\n",
    "        if display:\n",
    "            if index != 0:\n",
    "                offset += x.max()\n",
    "            plt.plot(range(10_000), x-offset, label=feature)\n",
    "            offset -= x.min()\n",
    "\n",
    "    if display:\n",
    "        # plt.legend()\n",
    "        name = parquet_path.split('/')[-1].split('.')[0]\n",
    "        plt.yticks([])\n",
    "        plt.title(f'EEG {name}',size=16)\n",
    "        plt.axis('off')\n",
    "        plt.show()\n",
    "\n",
    "    return data"
   ]
  },
  {
   "cell_type": "markdown",
   "id": "e21c503a",
   "metadata": {
    "id": "ySHR29NtAjG8",
    "papermill": {
     "duration": 0.012483,
     "end_time": "2024-04-01T06:37:13.968178",
     "exception": false,
     "start_time": "2024-04-01T06:37:13.955695",
     "status": "completed"
    },
    "tags": []
   },
   "source": [
    "**Butter Low-Pass Filter**"
   ]
  },
  {
   "cell_type": "code",
   "execution_count": 20,
   "id": "1db60a01",
   "metadata": {
    "execution": {
     "iopub.execute_input": "2024-04-01T06:37:13.994781Z",
     "iopub.status.busy": "2024-04-01T06:37:13.994506Z",
     "iopub.status.idle": "2024-04-01T06:37:13.999592Z",
     "shell.execute_reply": "2024-04-01T06:37:13.998772Z"
    },
    "id": "Eh5zO8FBAjoZ",
    "papermill": {
     "duration": 0.020599,
     "end_time": "2024-04-01T06:37:14.001516",
     "exception": false,
     "start_time": "2024-04-01T06:37:13.980917",
     "status": "completed"
    },
    "tags": []
   },
   "outputs": [],
   "source": [
    "from scipy.signal import butter, lfilter\n",
    "\n",
    "def butter_lowpass_filter(data, cutoff_freq=20, sampling_rate=200, order=4):\n",
    "    nyquist = 0.5 * sampling_rate\n",
    "    normal_cutoff = cutoff_freq / nyquist\n",
    "    b, a = butter(order, normal_cutoff, btype='low', analog=False)\n",
    "    filtered_data = lfilter(b, a, data, axis=0)\n",
    "    return filtered_data"
   ]
  },
  {
   "cell_type": "markdown",
   "id": "b20776af",
   "metadata": {
    "id": "DqvEgWmMKzAQ",
    "papermill": {
     "duration": 0.012538,
     "end_time": "2024-04-01T06:37:14.026994",
     "exception": false,
     "start_time": "2024-04-01T06:37:14.014456",
     "status": "completed"
    },
    "tags": []
   },
   "source": [
    "**Data Loader with Butter Low-Pass Filter**"
   ]
  },
  {
   "cell_type": "code",
   "execution_count": 21,
   "id": "e151ddb0",
   "metadata": {
    "execution": {
     "iopub.execute_input": "2024-04-01T06:37:14.053355Z",
     "iopub.status.busy": "2024-04-01T06:37:14.052862Z",
     "iopub.status.idle": "2024-04-01T06:37:23.166708Z",
     "shell.execute_reply": "2024-04-01T06:37:23.165924Z"
    },
    "id": "zFLTUENSKymf",
    "papermill": {
     "duration": 9.129362,
     "end_time": "2024-04-01T06:37:23.168880",
     "exception": false,
     "start_time": "2024-04-01T06:37:14.039518",
     "status": "completed"
    },
    "tags": []
   },
   "outputs": [
    {
     "name": "stderr",
     "output_type": "stream",
     "text": [
      "2024-04-01 06:37:15.549234: E external/local_xla/xla/stream_executor/cuda/cuda_dnn.cc:9261] Unable to register cuDNN factory: Attempting to register factory for plugin cuDNN when one has already been registered\n",
      "2024-04-01 06:37:15.549328: E external/local_xla/xla/stream_executor/cuda/cuda_fft.cc:607] Unable to register cuFFT factory: Attempting to register factory for plugin cuFFT when one has already been registered\n",
      "2024-04-01 06:37:15.668429: E external/local_xla/xla/stream_executor/cuda/cuda_blas.cc:1515] Unable to register cuBLAS factory: Attempting to register factory for plugin cuBLAS when one has already been registered\n"
     ]
    }
   ],
   "source": [
    "import tensorflow as tf\n",
    "\n",
    "class DataGenerator(tf.keras.utils.Sequence):\n",
    "    # generate data for Keras\n",
    "    def __init__(self, data, batch_size=32, shuffle=False, eegs=None, mode='train', downsample=5, tag=None):\n",
    "        self.data = data\n",
    "        self.batch_size = batch_size\n",
    "        self.shuffle = shuffle\n",
    "        self.eegs = eegs\n",
    "        self.mode = mode\n",
    "        self.downsample = downsample\n",
    "        self.tag = tag\n",
    "        self.on_epoch_end()\n",
    "\n",
    "    def __len__(self):\n",
    "        # denote the number of batches per epoch\n",
    "        ct = int( np.ceil( len(self.data) / self.batch_size ) )\n",
    "        return ct\n",
    "\n",
    "    def __getitem__(self, index):\n",
    "        # generate one batch of data\n",
    "        indexes = self.indexes[index*self.batch_size:(index+1)*self.batch_size]  # [0:32] -> [32:64] ...\n",
    "        x, y = self.__data_generation(indexes)\n",
    "        x, y = torch.tensor(x, dtype=torch.float32), torch.tensor(y, dtype=torch.float32)\n",
    "        if self.tag:\n",
    "            return x[:,::self.downsample,:], y\n",
    "        return x[:,::self.downsample,:].transpose(1, 2), y\n",
    "\n",
    "    def on_epoch_end(self):\n",
    "        # update indexes after each epoch\n",
    "        self.indexes = np.arange( len(self.data) )\n",
    "        if self.shuffle: np.random.shuffle(self.indexes)\n",
    "\n",
    "    def __data_generation(self, indexes):\n",
    "        # generate data containing batch_size samples\n",
    "        x = np.zeros((len(indexes), 10_000, 8), dtype='float32')\n",
    "        y = np.zeros((len(indexes), 6), dtype='float32')\n",
    "\n",
    "        sample = np.zeros((10_000, x.shape[-1]))\n",
    "        for j, i in enumerate(indexes):\n",
    "            row = self.data.iloc[i]\n",
    "            data = self.eegs[row.eeg_id]\n",
    "\n",
    "            # convert EEG signals to montaged EEG signals\n",
    "            sample[:, 0] = data[:, features_to_index['Fp1']] - data[:, features_to_index['T3']]\n",
    "            sample[:, 1] = data[:, features_to_index['T3']] - data[:, features_to_index['O1']]\n",
    "\n",
    "            sample[:, 2] = data[:, features_to_index['Fp1']] - data[:, features_to_index['C3']]\n",
    "            sample[: ,3] = data[:, features_to_index['C3']] - data[:, features_to_index['O1']]\n",
    "\n",
    "            sample[:, 4] = data[:, features_to_index['Fp2']] - data[:, features_to_index['C4']]\n",
    "            sample[:, 5] = data[:, features_to_index['C4']] - data[:, features_to_index['O2']]\n",
    "\n",
    "            sample[:, 6] = data[:, features_to_index['Fp2']] - data[:, features_to_index['T4']]\n",
    "            sample[:, 7] = data[:, features_to_index['T4']] - data[:, features_to_index['O2']]\n",
    "\n",
    "            # standardization\n",
    "            sample = np.clip(sample, -1024, 1024)\n",
    "            sample = np.nan_to_num(sample, nan=0) / 32.0\n",
    "\n",
    "            # apply Butter low-pass filter\n",
    "            sample = butter_lowpass_filter(sample)\n",
    "\n",
    "            x[j,] = sample\n",
    "            if self.mode != 'test':\n",
    "                y[j] = row[votes]\n",
    "\n",
    "        return x, y"
   ]
  },
  {
   "cell_type": "markdown",
   "id": "c6933c24",
   "metadata": {
    "papermill": {
     "duration": 0.012565,
     "end_time": "2024-04-01T06:37:23.194555",
     "exception": false,
     "start_time": "2024-04-01T06:37:23.181990",
     "status": "completed"
    },
    "tags": []
   },
   "source": [
    "**Build WaveModel**"
   ]
  },
  {
   "cell_type": "code",
   "execution_count": 22,
   "id": "60942700",
   "metadata": {
    "execution": {
     "iopub.execute_input": "2024-04-01T06:37:23.221430Z",
     "iopub.status.busy": "2024-04-01T06:37:23.220860Z",
     "iopub.status.idle": "2024-04-01T06:37:23.229925Z",
     "shell.execute_reply": "2024-04-01T06:37:23.229087Z"
    },
    "papermill": {
     "duration": 0.024519,
     "end_time": "2024-04-01T06:37:23.231750",
     "exception": false,
     "start_time": "2024-04-01T06:37:23.207231",
     "status": "completed"
    },
    "tags": []
   },
   "outputs": [],
   "source": [
    "from tensorflow.keras.layers import Input, Dense, Multiply, Add, Conv1D, Concatenate\n",
    "\n",
    "def wave_block(x, filters, kernel_size, n):\n",
    "    dilation_rates = [2**i for i in range(n)]\n",
    "    x = Conv1D(filters = filters,\n",
    "               kernel_size = 1,\n",
    "               padding = 'same')(x)\n",
    "    res_x = x\n",
    "    for dilation_rate in dilation_rates:\n",
    "        tanh_out = Conv1D(filters = filters,\n",
    "                          kernel_size = kernel_size,\n",
    "                          padding = 'same', \n",
    "                          activation = 'tanh', \n",
    "                          dilation_rate = dilation_rate)(x)\n",
    "        sigm_out = Conv1D(filters = filters,\n",
    "                          kernel_size = kernel_size,\n",
    "                          padding = 'same',\n",
    "                          activation = 'sigmoid', \n",
    "                          dilation_rate = dilation_rate)(x)\n",
    "        x = Multiply()([tanh_out, sigm_out])\n",
    "        x = Conv1D(filters = filters,\n",
    "                   kernel_size = 1,\n",
    "                   padding = 'same')(x)\n",
    "        res_x = Add()([res_x, x])\n",
    "    return res_x"
   ]
  },
  {
   "cell_type": "code",
   "execution_count": 23,
   "id": "e20113ac",
   "metadata": {
    "execution": {
     "iopub.execute_input": "2024-04-01T06:37:23.258459Z",
     "iopub.status.busy": "2024-04-01T06:37:23.258184Z",
     "iopub.status.idle": "2024-04-01T06:37:23.271940Z",
     "shell.execute_reply": "2024-04-01T06:37:23.271139Z"
    },
    "id": "9eAi1vIhY1PW",
    "papermill": {
     "duration": 0.029219,
     "end_time": "2024-04-01T06:37:23.273764",
     "exception": false,
     "start_time": "2024-04-01T06:37:23.244545",
     "status": "completed"
    },
    "tags": []
   },
   "outputs": [],
   "source": [
    "def build_model():\n",
    "        \n",
    "    # INPUT \n",
    "    inp = tf.keras.Input(shape=(2_000,8))\n",
    "    \n",
    "    ############\n",
    "    # FEATURE EXTRACTION SUB MODEL\n",
    "    inp2 = tf.keras.Input(shape=(2_000,1))\n",
    "    x = wave_block(inp2, 8, 3, 12)\n",
    "    x = wave_block(x, 16, 3, 8)\n",
    "    x = wave_block(x, 32, 3, 4)\n",
    "    x = wave_block(x, 64, 3, 1)\n",
    "    model2 = tf.keras.Model(inputs=inp2, outputs=x)\n",
    "    ###########\n",
    "    \n",
    "    # LEFT TEMPORAL CHAIN\n",
    "    x1 = model2(inp[:,:,0:1])\n",
    "    x1 = tf.keras.layers.GlobalAveragePooling1D()(x1)\n",
    "    x2 = model2(inp[:,:,1:2])\n",
    "    x2 = tf.keras.layers.GlobalAveragePooling1D()(x2)\n",
    "    z1 = tf.keras.layers.Average()([x1,x2])\n",
    "    \n",
    "    # LEFT PARASAGITTAL CHAIN\n",
    "    x1 = model2(inp[:,:,2:3])\n",
    "    x1 = tf.keras.layers.GlobalAveragePooling1D()(x1)\n",
    "    x2 = model2(inp[:,:,3:4])\n",
    "    x2 = tf.keras.layers.GlobalAveragePooling1D()(x2)\n",
    "    z2 = tf.keras.layers.Average()([x1,x2])\n",
    "    \n",
    "    # RIGHT PARASAGITTAL CHAIN\n",
    "    x1 = model2(inp[:,:,4:5])\n",
    "    x1 = tf.keras.layers.GlobalAveragePooling1D()(x1)\n",
    "    x2 = model2(inp[:,:,5:6])\n",
    "    x2 = tf.keras.layers.GlobalAveragePooling1D()(x2)\n",
    "    z3 = tf.keras.layers.Average()([x1,x2])\n",
    "    \n",
    "    # RIGHT TEMPORAL CHAIN\n",
    "    x1 = model2(inp[:,:,6:7])\n",
    "    x1 = tf.keras.layers.GlobalAveragePooling1D()(x1)\n",
    "    x2 = model2(inp[:,:,7:8])\n",
    "    x2 = tf.keras.layers.GlobalAveragePooling1D()(x2)\n",
    "    z4 = tf.keras.layers.Average()([x1,x2])\n",
    "    \n",
    "    # COMBINE CHAINS\n",
    "    y = tf.keras.layers.Concatenate()([z1,z2,z3,z4])\n",
    "    y = tf.keras.layers.Dense(64, activation='relu')(y)\n",
    "    y = tf.keras.layers.Dense(6,activation='softmax', dtype='float32')(y)\n",
    "    \n",
    "    # COMPILE MODEL\n",
    "    model = tf.keras.Model(inputs=inp, outputs=y)\n",
    "    opt = tf.keras.optimizers.Adam(learning_rate = 1e-3)\n",
    "    loss = tf.keras.losses.KLDivergence()\n",
    "    model.compile(loss=loss, optimizer = opt)\n",
    "    \n",
    "    return model"
   ]
  },
  {
   "cell_type": "markdown",
   "id": "756f2465",
   "metadata": {
    "papermill": {
     "duration": 0.012521,
     "end_time": "2024-04-01T06:37:23.299047",
     "exception": false,
     "start_time": "2024-04-01T06:37:23.286526",
     "status": "completed"
    },
    "tags": []
   },
   "source": [
    "**ResNet Model**"
   ]
  },
  {
   "cell_type": "code",
   "execution_count": 24,
   "id": "a1f74bb4",
   "metadata": {
    "execution": {
     "iopub.execute_input": "2024-04-01T06:37:23.326333Z",
     "iopub.status.busy": "2024-04-01T06:37:23.326035Z",
     "iopub.status.idle": "2024-04-01T06:37:23.347706Z",
     "shell.execute_reply": "2024-04-01T06:37:23.346864Z"
    },
    "papermill": {
     "duration": 0.037549,
     "end_time": "2024-04-01T06:37:23.349523",
     "exception": false,
     "start_time": "2024-04-01T06:37:23.311974",
     "status": "completed"
    },
    "tags": []
   },
   "outputs": [],
   "source": [
    "class ResNet_1D_Block(nn.Module):\n",
    "    def __init__(self, in_channels, out_channels, kernel_size, stride, padding, downsampling):\n",
    "        super(ResNet_1D_Block, self).__init__()\n",
    "        self.bn1 = nn.BatchNorm1d(num_features=in_channels)\n",
    "        self.relu = nn.ReLU(inplace=False)\n",
    "        self.dropout = nn.Dropout(p=0.0, inplace=False)\n",
    "        self.conv1 = nn.Conv1d(in_channels=in_channels, out_channels=out_channels, kernel_size=kernel_size,\n",
    "                               stride=stride, padding=padding, bias=False)\n",
    "        self.bn2 = nn.BatchNorm1d(num_features=out_channels)\n",
    "        self.conv2 = nn.Conv1d(in_channels=out_channels, out_channels=out_channels, kernel_size=kernel_size,\n",
    "                               stride=stride, padding=padding, bias=False)\n",
    "        self.maxpool = nn.MaxPool1d(kernel_size=2, stride=2, padding=0)\n",
    "        self.downsampling = downsampling\n",
    "\n",
    "    def forward(self, x):\n",
    "        identity = x\n",
    "\n",
    "        out = self.bn1(x)\n",
    "        out = self.relu(out)\n",
    "        out = self.dropout(out)\n",
    "        out = self.conv1(out)\n",
    "        out = self.bn2(out)\n",
    "        out = self.relu(out)\n",
    "        out = self.dropout(out)\n",
    "        out = self.conv2(out)\n",
    "\n",
    "        out = self.maxpool(out)\n",
    "        identity = self.downsampling(x)\n",
    "\n",
    "        out += identity\n",
    "        return out\n",
    "\n",
    "\n",
    "class EEGNet(nn.Module):\n",
    "\n",
    "    def __init__(self, kernels, in_channels=8, fixed_kernel_size=5, num_classes=6):\n",
    "        super(EEGNet, self).__init__()\n",
    "        self.kernels = kernels\n",
    "        self.planes = 24\n",
    "        self.parallel_conv = nn.ModuleList()\n",
    "        self.in_channels = in_channels\n",
    "\n",
    "        for i, kernel_size in enumerate(list(self.kernels)):\n",
    "            sep_conv = nn.Conv1d(in_channels=in_channels, out_channels=self.planes, kernel_size=(kernel_size),\n",
    "                               stride=1, padding=0, bias=False,)\n",
    "            self.parallel_conv.append(sep_conv)\n",
    "\n",
    "        self.bn1 = nn.BatchNorm1d(num_features=self.planes)\n",
    "        self.relu = nn.ReLU(inplace=False)\n",
    "        self.conv1 = nn.Conv1d(in_channels=self.planes, out_channels=self.planes, kernel_size=fixed_kernel_size,\n",
    "                               stride=2, padding=2, bias=False)\n",
    "        self.block = self._make_resnet_layer(kernel_size=fixed_kernel_size, stride=1, padding=fixed_kernel_size//2)\n",
    "        self.bn2 = nn.BatchNorm1d(num_features=self.planes)\n",
    "        self.avgpool = nn.AvgPool1d(kernel_size=6, stride=6, padding=2)\n",
    "        self.rnn = nn.GRU(input_size=self.in_channels, hidden_size=128, num_layers=1, bidirectional=True)\n",
    "        self.fc = nn.Linear(in_features=280, out_features=num_classes)\n",
    "        self.rnn1 = nn.GRU(input_size=156, hidden_size=156, num_layers=1, bidirectional=True)\n",
    "\n",
    "    def _make_resnet_layer(self, kernel_size, stride, blocks=9, padding=0):\n",
    "        layers = []\n",
    "        downsample = None\n",
    "        base_width = self.planes\n",
    "\n",
    "        for i in range(blocks):\n",
    "            downsampling = nn.Sequential(\n",
    "                    nn.MaxPool1d(kernel_size=2, stride=2, padding=0)\n",
    "                )\n",
    "            layers.append(ResNet_1D_Block(in_channels=self.planes, out_channels=self.planes, kernel_size=kernel_size,\n",
    "                                       stride=stride, padding=padding, downsampling=downsampling))\n",
    "\n",
    "        return nn.Sequential(*layers)\n",
    "\n",
    "    def forward(self, x):\n",
    "        out_sep = []\n",
    "\n",
    "        for i in range(len(self.kernels)):\n",
    "            sep = self.parallel_conv[i](x)\n",
    "            out_sep.append(sep)\n",
    "\n",
    "        out = torch.cat(out_sep, dim=2)\n",
    "        out = self.bn1(out)\n",
    "        out = self.relu(out)\n",
    "        out = self.conv1(out)\n",
    "\n",
    "        out = self.block(out)\n",
    "        out = self.bn2(out)\n",
    "        out = self.relu(out)\n",
    "        out = self.avgpool(out)\n",
    "\n",
    "        out = out.reshape(out.shape[0], -1)\n",
    "\n",
    "        rnn_out, _ = self.rnn(x.permute(0, 2, 1))\n",
    "        new_rnn_h = rnn_out[:, -1, :]\n",
    "\n",
    "        new_out = torch.cat([out, new_rnn_h], dim=1)\n",
    "        result = self.fc(new_out)\n",
    "\n",
    "        return result"
   ]
  },
  {
   "cell_type": "markdown",
   "id": "5a462b85",
   "metadata": {
    "papermill": {
     "duration": 0.012763,
     "end_time": "2024-04-01T06:37:23.375251",
     "exception": false,
     "start_time": "2024-04-01T06:37:23.362488",
     "status": "completed"
    },
    "tags": []
   },
   "source": [
    "**1D CNN Model**"
   ]
  },
  {
   "cell_type": "code",
   "execution_count": 25,
   "id": "a6783379",
   "metadata": {
    "execution": {
     "iopub.execute_input": "2024-04-01T06:37:23.401751Z",
     "iopub.status.busy": "2024-04-01T06:37:23.401468Z",
     "iopub.status.idle": "2024-04-01T06:37:23.419270Z",
     "shell.execute_reply": "2024-04-01T06:37:23.418448Z"
    },
    "papermill": {
     "duration": 0.033249,
     "end_time": "2024-04-01T06:37:23.421160",
     "exception": false,
     "start_time": "2024-04-01T06:37:23.387911",
     "status": "completed"
    },
    "tags": []
   },
   "outputs": [],
   "source": [
    "class CNN1D(nn.Module):\n",
    "    def __init__(self, in_channels, kernel_size=3):\n",
    "        super(CNN1D, self).__init__()\n",
    "        self.conv1 = nn.Conv1d(in_channels, 64, kernel_size, 1, 1)\n",
    "        self.conv2 = nn.Conv1d(64, 64, kernel_size, 1, 1)\n",
    "        self.conv3 = nn.Conv1d(64, 128, kernel_size, 1, 1)\n",
    "        self.conv4 = nn.Conv1d(128, 128, kernel_size, 1, 1)\n",
    "        self.conv5 = nn.Conv1d(128, 256, kernel_size, 1, 1)\n",
    "        self.conv6 = nn.Conv1d(256, 256, kernel_size, 1, 1)\n",
    "        self.conv7 = nn.Conv1d(256, 512, kernel_size, 1, 1)\n",
    "        self.conv8 = nn.Conv1d(512, 512, kernel_size, 1, 1)\n",
    "\n",
    "        self.bn1 = nn.BatchNorm1d(64)\n",
    "        self.bn2 = nn.BatchNorm1d(64)\n",
    "        self.bn3 = nn.BatchNorm1d(128)\n",
    "        self.bn4 = nn.BatchNorm1d(128)\n",
    "        self.bn5 = nn.BatchNorm1d(256)\n",
    "        self.bn6 = nn.BatchNorm1d(256)\n",
    "        self.bn7 = nn.BatchNorm1d(512)\n",
    "        self.bn8 = nn.BatchNorm1d(512)\n",
    "        \n",
    "        self.rnn = nn.GRU(input_size=in_channels, hidden_size=128, num_layers=1, bidirectional=True)\n",
    "#         self.fc = nn.Linear(3840, 6)\n",
    "        self.fc1 = nn.Linear(3840, 512)\n",
    "        self.fc2 = nn.Linear(512, 6)\n",
    "\n",
    "    def forward(self, x):                       \n",
    "        # N x 8 x 2000\n",
    "        out = self.conv1(x)\n",
    "        out = self.bn1(out)\n",
    "        out = nn.functional.relu(out)\n",
    "        out = nn.functional.max_pool1d(out, (2))\n",
    "\n",
    "        # N x 64 x 1000\n",
    "        out = self.conv2(out)\n",
    "        out = self.bn2(out)\n",
    "        out = nn.functional.relu(out)\n",
    "        out = nn.functional.max_pool1d(out, (2))\n",
    "\n",
    "        # N x 64 x 500\n",
    "        out = self.conv3(out)\n",
    "        out = self.bn3(out)\n",
    "        out = nn.functional.relu(out)\n",
    "        out = nn.functional.max_pool1d(out, (2))\n",
    "\n",
    "        # N x 128 x 250\n",
    "        out = self.conv4(out)\n",
    "        out = self.bn4(out)\n",
    "        out = nn.functional.relu(out)\n",
    "        out = nn.functional.max_pool1d(out, (2))\n",
    "\n",
    "        # N x 128 x 125\n",
    "        out = self.conv5(out)\n",
    "        out = self.bn5(out)\n",
    "        out = nn.functional.relu(out)\n",
    "        out = nn.functional.max_pool1d(out, (2))\n",
    "        \n",
    "        # N x 256 x 62\n",
    "        out = self.conv6(out)\n",
    "        out = self.bn6(out)\n",
    "        out = nn.functional.relu(out)\n",
    "        out = nn.functional.max_pool1d(out, (2))\n",
    "        \n",
    "        # N x 256 x 31\n",
    "        out = self.conv7(out)\n",
    "        out = self.bn7(out)\n",
    "        out = nn.functional.relu(out)\n",
    "        out = nn.functional.max_pool1d(out, (2))\n",
    "        \n",
    "        # N x 512 x 15\n",
    "        out = self.conv8(out)\n",
    "        out = self.bn8(out)\n",
    "        out = nn.functional.relu(out)\n",
    "        out = nn.functional.max_pool1d(out, (2))\n",
    "        \n",
    "        # N x 512 x 7\n",
    "#         out = torch.flatten(out, 1)\n",
    "        out = out.reshape(out.shape[0], -1)\n",
    "        \n",
    "        rnn_out, _ = self.rnn(x.permute(0, 2, 1))\n",
    "        new_rnn_h = rnn_out[:, -1, :]\n",
    "\n",
    "        new_out = torch.cat([out, new_rnn_h], dim=1)\n",
    "#         new_out = self.fc(new_out)\n",
    "        new_out = self.fc1(new_out)\n",
    "        new_out = self.fc2(new_out)\n",
    "        return new_out"
   ]
  },
  {
   "cell_type": "code",
   "execution_count": 26,
   "id": "cb5043e6",
   "metadata": {
    "execution": {
     "iopub.execute_input": "2024-04-01T06:37:23.447694Z",
     "iopub.status.busy": "2024-04-01T06:37:23.447438Z",
     "iopub.status.idle": "2024-04-01T06:37:23.451056Z",
     "shell.execute_reply": "2024-04-01T06:37:23.450249Z"
    },
    "papermill": {
     "duration": 0.018969,
     "end_time": "2024-04-01T06:37:23.452856",
     "exception": false,
     "start_time": "2024-04-01T06:37:23.433887",
     "status": "completed"
    },
    "tags": []
   },
   "outputs": [],
   "source": [
    "FOLDS_TO_TRAIN = 5\n",
    "DOWNSAMPLE = 5"
   ]
  },
  {
   "cell_type": "markdown",
   "id": "907aa66f",
   "metadata": {
    "id": "UD8hBUY7bjV-",
    "papermill": {
     "duration": 0.012559,
     "end_time": "2024-04-01T06:37:23.478382",
     "exception": false,
     "start_time": "2024-04-01T06:37:23.465823",
     "status": "completed"
    },
    "tags": []
   },
   "source": [
    "**submission**"
   ]
  },
  {
   "cell_type": "code",
   "execution_count": 27,
   "id": "2c47b1e0",
   "metadata": {
    "execution": {
     "iopub.execute_input": "2024-04-01T06:37:23.505066Z",
     "iopub.status.busy": "2024-04-01T06:37:23.504787Z",
     "iopub.status.idle": "2024-04-01T06:37:23.519600Z",
     "shell.execute_reply": "2024-04-01T06:37:23.518736Z"
    },
    "id": "5Sv0usR2bnXU",
    "outputId": "d510d817-0bf6-4045-a337-aa964ec1b879",
    "papermill": {
     "duration": 0.030789,
     "end_time": "2024-04-01T06:37:23.521846",
     "exception": false,
     "start_time": "2024-04-01T06:37:23.491057",
     "status": "completed"
    },
    "tags": []
   },
   "outputs": [
    {
     "name": "stdout",
     "output_type": "stream",
     "text": [
      "Test shape: (1, 3)\n"
     ]
    },
    {
     "data": {
      "text/html": [
       "<div>\n",
       "<style scoped>\n",
       "    .dataframe tbody tr th:only-of-type {\n",
       "        vertical-align: middle;\n",
       "    }\n",
       "\n",
       "    .dataframe tbody tr th {\n",
       "        vertical-align: top;\n",
       "    }\n",
       "\n",
       "    .dataframe thead th {\n",
       "        text-align: right;\n",
       "    }\n",
       "</style>\n",
       "<table border=\"1\" class=\"dataframe\">\n",
       "  <thead>\n",
       "    <tr style=\"text-align: right;\">\n",
       "      <th></th>\n",
       "      <th>spectrogram_id</th>\n",
       "      <th>eeg_id</th>\n",
       "      <th>patient_id</th>\n",
       "    </tr>\n",
       "  </thead>\n",
       "  <tbody>\n",
       "    <tr>\n",
       "      <th>0</th>\n",
       "      <td>853520</td>\n",
       "      <td>3911565283</td>\n",
       "      <td>6885</td>\n",
       "    </tr>\n",
       "  </tbody>\n",
       "</table>\n",
       "</div>"
      ],
      "text/plain": [
       "   spectrogram_id      eeg_id  patient_id\n",
       "0          853520  3911565283        6885"
      ]
     },
     "execution_count": 27,
     "metadata": {},
     "output_type": "execute_result"
    }
   ],
   "source": [
    "test = pd.read_csv('/kaggle/input/hms-harmful-brain-activity-classification/test.csv')\n",
    "print('Test shape:',test.shape)\n",
    "test.head()"
   ]
  },
  {
   "cell_type": "code",
   "execution_count": 28,
   "id": "330db96b",
   "metadata": {
    "execution": {
     "iopub.execute_input": "2024-04-01T06:37:23.550450Z",
     "iopub.status.busy": "2024-04-01T06:37:23.550203Z",
     "iopub.status.idle": "2024-04-01T06:37:23.824148Z",
     "shell.execute_reply": "2024-04-01T06:37:23.823220Z"
    },
    "id": "oGjK_sYiV29W",
    "outputId": "edd1b9fb-1ebf-49b2-db48-6a82ee5f5105",
    "papermill": {
     "duration": 0.290142,
     "end_time": "2024-04-01T06:37:23.826555",
     "exception": false,
     "start_time": "2024-04-01T06:37:23.536413",
     "status": "completed"
    },
    "tags": []
   },
   "outputs": [
    {
     "name": "stdout",
     "output_type": "stream",
     "text": [
      "Processing Test EEG parquets...\n",
      "\n"
     ]
    },
    {
     "data": {
      "image/png": "[encoded data removed]",
      "text/plain": [
       "<Figure size 1000x500 with 1 Axes>"
      ]
     },
     "metadata": {},
     "output_type": "display_data"
    }
   ],
   "source": [
    "all_test_eegs = {}\n",
    "display_num = 1\n",
    "test_eeg_ids = test.eeg_id.unique()\n",
    "test_eegs_parquet_folder = '/kaggle/input/hms-harmful-brain-activity-classification/test_eegs/'\n",
    "\n",
    "print('Processing Test EEG parquets...'); print()\n",
    "for i, eeg_id in enumerate(test_eeg_ids):\n",
    "    # save eeg parquet files from test_eegs into dict: {eeg_id: numpy}\n",
    "    data = eeg_from_parquet(f'{test_eegs_parquet_folder}{eeg_id}.parquet', i < display_num)\n",
    "    all_test_eegs[eeg_id] = data"
   ]
  },
  {
   "cell_type": "code",
   "execution_count": 29,
   "id": "e9fd6cbb",
   "metadata": {
    "execution": {
     "iopub.execute_input": "2024-04-01T06:37:23.859902Z",
     "iopub.status.busy": "2024-04-01T06:37:23.859585Z",
     "iopub.status.idle": "2024-04-01T06:37:23.864484Z",
     "shell.execute_reply": "2024-04-01T06:37:23.863684Z"
    },
    "id": "jpvhBqEEibWt",
    "papermill": {
     "duration": 0.024569,
     "end_time": "2024-04-01T06:37:23.866376",
     "exception": false,
     "start_time": "2024-04-01T06:37:23.841807",
     "status": "completed"
    },
    "tags": []
   },
   "outputs": [],
   "source": [
    "wavenet_test_data = DataGenerator(test, shuffle=False, batch_size=64, eegs=all_test_eegs, mode='test', downsample=5, tag=\"WaveNet\")\n",
    "cnn_test_data = DataGenerator(test, shuffle=False, batch_size=64, eegs=all_test_eegs, mode='test', downsample=5)"
   ]
  },
  {
   "cell_type": "code",
   "execution_count": 30,
   "id": "ac86dcde",
   "metadata": {
    "execution": {
     "iopub.execute_input": "2024-04-01T06:37:23.896718Z",
     "iopub.status.busy": "2024-04-01T06:37:23.896455Z",
     "iopub.status.idle": "2024-04-01T06:37:23.946287Z",
     "shell.execute_reply": "2024-04-01T06:37:23.945520Z"
    },
    "papermill": {
     "duration": 0.067304,
     "end_time": "2024-04-01T06:37:23.948257",
     "exception": false,
     "start_time": "2024-04-01T06:37:23.880953",
     "status": "completed"
    },
    "tags": []
   },
   "outputs": [],
   "source": [
    "resnet_model = EEGNet(kernels=[3, 5, 7, 9])\n",
    "cnn_model = CNN1D(in_channels=8)"
   ]
  },
  {
   "cell_type": "code",
   "execution_count": 31,
   "id": "6fbfdbb3",
   "metadata": {
    "execution": {
     "iopub.execute_input": "2024-04-01T06:37:23.979343Z",
     "iopub.status.busy": "2024-04-01T06:37:23.979083Z",
     "iopub.status.idle": "2024-04-01T06:37:56.509854Z",
     "shell.execute_reply": "2024-04-01T06:37:56.508744Z"
    },
    "id": "PMRe1bi7bv2X",
    "papermill": {
     "duration": 32.548594,
     "end_time": "2024-04-01T06:37:56.511985",
     "exception": false,
     "start_time": "2024-04-01T06:37:23.963391",
     "status": "completed"
    },
    "tags": []
   },
   "outputs": [
    {
     "name": "stdout",
     "output_type": "stream",
     "text": [
      "Inferring test... fold 1, "
     ]
    },
    {
     "name": "stderr",
     "output_type": "stream",
     "text": [
      "WARNING: All log messages before absl::InitializeLog() is called are written to STDERR\n",
      "I0000 00:00:1711953472.809656      99 device_compiler.h:186] Compiled cluster using XLA!  This line is logged at most once for the lifetime of the process.\n"
     ]
    },
    {
     "name": "stdout",
     "output_type": "stream",
     "text": [
      "fold 2, fold 3, fold 4, fold 5, \n",
      "CNN preds shape (1, 6)\n",
      "ResNet preds shape (1, 6)\n",
      "WaveNet preds shape (1, 6)\n"
     ]
    }
   ],
   "source": [
    "from scipy.special import softmax\n",
    "\n",
    "\n",
    "cnn_all = np.zeros((len(all_test_eegs), 6))\n",
    "resnet_all = np.zeros((len(all_test_eegs), 6))\n",
    "\n",
    "wavenet_preds = []\n",
    "wavenet_model = build_model()\n",
    "\n",
    "print('Inferring test... ',end='')\n",
    "\n",
    "for i in range(FOLDS_TO_TRAIN):\n",
    "    resnet_preds = []\n",
    "    cnn_preds = []\n",
    "    print(f'fold {i+1}, ',end='')\n",
    "    \n",
    "    cnn_model.load_state_dict(torch.load(f'/kaggle/input/combine-cnn-and-resnet200-epochs/CNNmodel_{i}.pt'))\n",
    "    cnn_model.eval()\n",
    "    cnn_model.cpu()\n",
    "    \n",
    "    resnet_model.load_state_dict(torch.load(f'/kaggle/input/combine-cnn-and-resnet200-epochs/RNmodel_{i}.pt'))\n",
    "    resnet_model.eval()\n",
    "    resnet_model.cpu()\n",
    "    \n",
    "    for batch in cnn_test_data:\n",
    "        cnn_pred = cnn_model(batch[0])\n",
    "        cnn_preds.append(cnn_pred.detach().numpy())\n",
    "        \n",
    "        resnet_pred = resnet_model(batch[0])\n",
    "        resnet_preds.append(resnet_pred.detach().numpy())\n",
    "\n",
    "    cnn_preds = softmax(np.vstack(cnn_preds), axis=1)\n",
    "    resnet_preds = softmax(np.vstack(resnet_preds), axis=1)\n",
    "    \n",
    "    cnn_all += cnn_preds\n",
    "    resnet_all += resnet_preds\n",
    "    \n",
    "    wavenet_model.load_weights(f'/kaggle/input/hms-wavenet-weights50-epochs/WaveNet_fold{i}.weights.h5')\n",
    "    wavenet_pred = wavenet_model.predict(wavenet_test_data, verbose=0)\n",
    "    wavenet_preds.append(wavenet_pred)\n",
    "\n",
    "cnn_preds = cnn_all / FOLDS_TO_TRAIN\n",
    "resnet_preds = resnet_all / FOLDS_TO_TRAIN\n",
    "wavenet_preds = np.mean(wavenet_preds, axis=0)\n",
    "\n",
    "print()\n",
    "print('CNN preds shape',cnn_preds.shape)\n",
    "print('ResNet preds shape',resnet_preds.shape)\n",
    "print('WaveNet preds shape',wavenet_preds.shape)"
   ]
  },
  {
   "cell_type": "code",
   "execution_count": 32,
   "id": "b8cf7bbd",
   "metadata": {
    "execution": {
     "iopub.execute_input": "2024-04-01T06:37:56.543557Z",
     "iopub.status.busy": "2024-04-01T06:37:56.543264Z",
     "iopub.status.idle": "2024-04-01T06:37:56.548350Z",
     "shell.execute_reply": "2024-04-01T06:37:56.547506Z"
    },
    "papermill": {
     "duration": 0.022836,
     "end_time": "2024-04-01T06:37:56.550273",
     "exception": false,
     "start_time": "2024-04-01T06:37:56.527437",
     "status": "completed"
    },
    "tags": []
   },
   "outputs": [
    {
     "name": "stdout",
     "output_type": "stream",
     "text": [
      "Combined preds shape (1, 6)\n"
     ]
    }
   ],
   "source": [
    "cnn_ratio = 0.33\n",
    "resnet_ratio = 0.33\n",
    "wavenet_ratio = 0.34\n",
    "\n",
    "combined_preds = (cnn_preds * cnn_ratio) + (resnet_preds * resnet_ratio) + (wavenet_preds * wavenet_ratio)\n",
    "print('Combined preds shape', combined_preds.shape)"
   ]
  },
  {
   "cell_type": "code",
   "execution_count": 33,
   "id": "0c038203",
   "metadata": {
    "execution": {
     "iopub.execute_input": "2024-04-01T06:37:56.582540Z",
     "iopub.status.busy": "2024-04-01T06:37:56.582275Z",
     "iopub.status.idle": "2024-04-01T06:37:56.586012Z",
     "shell.execute_reply": "2024-04-01T06:37:56.585202Z"
    },
    "id": "zFECJ_Ikg8Wl",
    "outputId": "0cddb77c-2d8d-4ffd-e797-492bc369ad07",
    "papermill": {
     "duration": 0.02183,
     "end_time": "2024-04-01T06:37:56.587903",
     "exception": false,
     "start_time": "2024-04-01T06:37:56.566073",
     "status": "completed"
    },
    "tags": []
   },
   "outputs": [],
   "source": [
    "# sub = pd.DataFrame({'eeg_id': test.eeg_id.values})\n",
    "# sub[votes] = combined_preds\n",
    "# sub.to_csv('submission.csv', index=False)\n",
    "\n",
    "# print('Submission shape', sub.shape)\n",
    "# display( sub.head() )"
   ]
  },
  {
   "cell_type": "markdown",
   "id": "c0ba5525",
   "metadata": {
    "papermill": {
     "duration": 0.0149,
     "end_time": "2024-04-01T06:37:56.618352",
     "exception": false,
     "start_time": "2024-04-01T06:37:56.603452",
     "status": "completed"
    },
    "tags": []
   },
   "source": [
    "# Combine all results"
   ]
  },
  {
   "cell_type": "code",
   "execution_count": 34,
   "id": "2ab4cd96",
   "metadata": {
    "execution": {
     "iopub.execute_input": "2024-04-01T06:37:56.649817Z",
     "iopub.status.busy": "2024-04-01T06:37:56.649554Z",
     "iopub.status.idle": "2024-04-01T06:37:56.654459Z",
     "shell.execute_reply": "2024-04-01T06:37:56.653730Z"
    },
    "papermill": {
     "duration": 0.022832,
     "end_time": "2024-04-01T06:37:56.656284",
     "exception": false,
     "start_time": "2024-04-01T06:37:56.633452",
     "status": "completed"
    },
    "tags": []
   },
   "outputs": [],
   "source": [
    "# eeg_spec_final_res = (combined_preds * 0.3) + (spectrogram_output * 0.7)\n",
    "eeg_spec_final_res = np.mean([combined_preds, spectrogram_output], axis=0)"
   ]
  },
  {
   "cell_type": "code",
   "execution_count": 35,
   "id": "2729a7b1",
   "metadata": {
    "execution": {
     "iopub.execute_input": "2024-04-01T06:37:56.687516Z",
     "iopub.status.busy": "2024-04-01T06:37:56.687247Z",
     "iopub.status.idle": "2024-04-01T06:37:56.705853Z",
     "shell.execute_reply": "2024-04-01T06:37:56.704879Z"
    },
    "papermill": {
     "duration": 0.036416,
     "end_time": "2024-04-01T06:37:56.707701",
     "exception": false,
     "start_time": "2024-04-01T06:37:56.671285",
     "status": "completed"
    },
    "tags": []
   },
   "outputs": [
    {
     "name": "stdout",
     "output_type": "stream",
     "text": [
      "Submission shape (1, 7)\n"
     ]
    },
    {
     "data": {
      "text/html": [
       "<div>\n",
       "<style scoped>\n",
       "    .dataframe tbody tr th:only-of-type {\n",
       "        vertical-align: middle;\n",
       "    }\n",
       "\n",
       "    .dataframe tbody tr th {\n",
       "        vertical-align: top;\n",
       "    }\n",
       "\n",
       "    .dataframe thead th {\n",
       "        text-align: right;\n",
       "    }\n",
       "</style>\n",
       "<table border=\"1\" class=\"dataframe\">\n",
       "  <thead>\n",
       "    <tr style=\"text-align: right;\">\n",
       "      <th></th>\n",
       "      <th>eeg_id</th>\n",
       "      <th>seizure_vote</th>\n",
       "      <th>lpd_vote</th>\n",
       "      <th>gpd_vote</th>\n",
       "      <th>lrda_vote</th>\n",
       "      <th>grda_vote</th>\n",
       "      <th>other_vote</th>\n",
       "    </tr>\n",
       "  </thead>\n",
       "  <tbody>\n",
       "    <tr>\n",
       "      <th>0</th>\n",
       "      <td>3911565283</td>\n",
       "      <td>0.131523</td>\n",
       "      <td>0.042558</td>\n",
       "      <td>0.001158</td>\n",
       "      <td>0.227675</td>\n",
       "      <td>0.038743</td>\n",
       "      <td>0.558342</td>\n",
       "    </tr>\n",
       "  </tbody>\n",
       "</table>\n",
       "</div>"
      ],
      "text/plain": [
       "       eeg_id  seizure_vote  lpd_vote  gpd_vote  lrda_vote  grda_vote  \\\n",
       "0  3911565283      0.131523  0.042558  0.001158   0.227675   0.038743   \n",
       "\n",
       "   other_vote  \n",
       "0    0.558342  "
      ]
     },
     "metadata": {},
     "output_type": "display_data"
    }
   ],
   "source": [
    "sub = pd.DataFrame({'eeg_id': test.eeg_id.values})\n",
    "sub[votes] = eeg_spec_final_res\n",
    "sub.to_csv('submission.csv', index=False)\n",
    "\n",
    "print('Submission shape', sub.shape)\n",
    "display( sub.head() )"
   ]
  }
 ],
 "metadata": {
  "accelerator": "GPU",
  "colab": {
   "gpuType": "T4",
   "machine_shape": "hm",
   "provenance": []
  },
  "kaggle": {
   "accelerator": "nvidiaTeslaT4",
   "dataSources": [
    {
     "databundleVersionId": 7469972,
     "sourceId": 59093,
     "sourceType": "competition"
    },
    {
     "datasetId": 4297782,
     "sourceId": 7392775,
     "sourceType": "datasetVersion"
    },
    {
     "datasetId": 4697200,
     "sourceId": 7980779,
     "sourceType": "datasetVersion"
    },
    {
     "datasetId": 4697202,
     "sourceId": 7980785,
     "sourceType": "datasetVersion"
    },
    {
     "datasetId": 4662430,
     "sourceId": 7931966,
     "sourceType": "datasetVersion"
    },
    {
     "datasetId": 4669599,
     "sourceId": 7942220,
     "sourceType": "datasetVersion"
    },
    {
     "datasetId": 4702427,
     "sourceId": 7988272,
     "sourceType": "datasetVersion"
    }
   ],
   "dockerImageVersionId": 30674,
   "isGpuEnabled": true,
   "isInternetEnabled": false,
   "language": "python",
   "sourceType": "notebook"
  },
  "kernelspec": {
   "display_name": "Python 3",
   "language": "python",
   "name": "python3"
  },
  "language_info": {
   "codemirror_mode": {
    "name": "ipython",
    "version": 3
   },
   "file_extension": ".py",
   "mimetype": "text/x-python",
   "name": "python",
   "nbconvert_exporter": "python",
   "pygments_lexer": "ipython3",
   "version": "3.10.13"
  },
  "papermill": {
   "default_parameters": {},
   "duration": 82.128227,
   "end_time": "2024-04-01T06:38:00.391751",
   "environment_variables": {},
   "exception": null,
   "input_path": "__notebook__.ipynb",
   "output_path": "__notebook__.ipynb",
   "parameters": {},
   "start_time": "2024-04-01T06:36:38.263524",
   "version": "2.5.0"
  }
 },
 "nbformat": 4,
 "nbformat_minor": 5
}
